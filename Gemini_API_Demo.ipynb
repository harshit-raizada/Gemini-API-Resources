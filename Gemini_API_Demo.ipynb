{
  "cells": [
    {
      "cell_type": "code",
      "execution_count": null,
      "metadata": {
        "id": "9OEoeosRTv-5",
        "outputId": "dcd9c92e-2465-4d09-f985-ba4c72550f00",
        "colab": {
          "base_uri": "https://localhost:8080/"
        }
      },
      "outputs": [
        {
          "output_type": "stream",
          "name": "stdout",
          "text": [
            "\u001b[?25l     \u001b[90m━━━━━━━━━━━━━━━━━━━━━━━━━━━━━━━━━━━━━━━━\u001b[0m \u001b[32m0.0/158.8 kB\u001b[0m \u001b[31m?\u001b[0m eta \u001b[36m-:--:--\u001b[0m\r\u001b[2K     \u001b[91m━━━━━━━\u001b[0m\u001b[91m╸\u001b[0m\u001b[90m━━━━━━━━━━━━━━━━━━━━━━━━━━━━━━━━\u001b[0m \u001b[32m30.7/158.8 kB\u001b[0m \u001b[31m748.9 kB/s\u001b[0m eta \u001b[36m0:00:01\u001b[0m\r\u001b[2K     \u001b[91m━━━━━━━━━━━━━━━\u001b[0m\u001b[90m╺\u001b[0m\u001b[90m━━━━━━━━━━━━━━━━━━━━━━━━\u001b[0m \u001b[32m61.4/158.8 kB\u001b[0m \u001b[31m760.0 kB/s\u001b[0m eta \u001b[36m0:00:01\u001b[0m\r\u001b[2K     \u001b[91m━━━━━━━━━━━━━━━━━━━━━━━━━━━━━━━━━━━━━━\u001b[0m\u001b[91m╸\u001b[0m\u001b[90m━\u001b[0m \u001b[32m153.6/158.8 kB\u001b[0m \u001b[31m1.3 MB/s\u001b[0m eta \u001b[36m0:00:01\u001b[0m\r\u001b[2K     \u001b[90m━━━━━━━━━━━━━━━━━━━━━━━━━━━━━━━━━━━━━━━━\u001b[0m \u001b[32m158.8/158.8 kB\u001b[0m \u001b[31m1.2 MB/s\u001b[0m eta \u001b[36m0:00:00\u001b[0m\n",
            "\u001b[?25h"
          ]
        }
      ],
      "source": [
        "!pip install -q -U google-generativeai"
      ]
    },
    {
      "cell_type": "code",
      "execution_count": null,
      "metadata": {
        "id": "TS9l5igubpHO"
      },
      "outputs": [],
      "source": [
        "import pathlib\n",
        "import textwrap\n",
        "\n",
        "import google.generativeai as genai\n",
        "\n",
        "from IPython.display import display\n",
        "from IPython.display import Markdown\n",
        "\n",
        "\n",
        "def to_markdown(text):\n",
        "  text = text.replace('•', '  *')\n",
        "  return Markdown(textwrap.indent(text, '> ', predicate=lambda _: True))"
      ]
    },
    {
      "cell_type": "code",
      "execution_count": null,
      "metadata": {
        "id": "d10c38a5c91f"
      },
      "outputs": [],
      "source": [
        "# Used to securely store your API key\n",
        "from google.colab import userdata"
      ]
    },
    {
      "cell_type": "code",
      "execution_count": null,
      "metadata": {
        "id": "ab9ASynfcIZn"
      },
      "outputs": [],
      "source": [
        "# Or use `os.getenv('GOOGLE_API_KEY')` to fetch an environment variable.\n",
        "GOOGLE_API_KEY=userdata.get('GOOGLE_API_KEY')\n",
        "\n",
        "genai.configure(api_key=GOOGLE_API_KEY)"
      ]
    },
    {
      "cell_type": "code",
      "execution_count": null,
      "metadata": {
        "id": "QvvWFy08e5c5",
        "outputId": "4afe04aa-7344-4bb1-eafa-0c710fbfe71a",
        "colab": {
          "base_uri": "https://localhost:8080/",
          "height": 225
        }
      },
      "outputs": [
        {
          "output_type": "stream",
          "name": "stdout",
          "text": [
            "models/gemini-1.0-pro\n",
            "models/gemini-1.0-pro-001\n",
            "models/gemini-1.0-pro-latest\n",
            "models/gemini-1.0-pro-vision-latest\n",
            "models/gemini-1.5-flash\n",
            "models/gemini-1.5-flash-001\n",
            "models/gemini-1.5-flash-latest\n",
            "models/gemini-1.5-pro\n",
            "models/gemini-1.5-pro-001\n",
            "models/gemini-1.5-pro-latest\n",
            "models/gemini-pro\n",
            "models/gemini-pro-vision\n"
          ]
        }
      ],
      "source": [
        "for m in genai.list_models():\n",
        "  if 'generateContent' in m.supported_generation_methods:\n",
        "    print(m.name)"
      ]
    },
    {
      "cell_type": "markdown",
      "metadata": {
        "id": "LZfoK3I3hu6V"
      },
      "source": [
        "## Generate text from text inputs\n",
        "\n",
        "For text-only prompts, use the `gemini-pro` model:"
      ]
    },
    {
      "cell_type": "code",
      "execution_count": null,
      "metadata": {
        "id": "2bcfnGEviwTI"
      },
      "outputs": [],
      "source": [
        "model = genai.GenerativeModel('gemini-1.5-flash')"
      ]
    },
    {
      "cell_type": "markdown",
      "metadata": {
        "id": "WR_2A_sxk8sK"
      },
      "source": [
        "The `generate_content` method can handle a wide variety of use cases, including multi-turn chat and multimodal input, depending on what the underlying model supports. The available models only support text and images as input, and text as output.\n",
        "\n",
        "In the simplest case, you can pass a prompt string to the <a href=\"https://ai.google.dev/api/python/google/generativeai/GenerativeModel#generate_content\"><code>GenerativeModel.generate_content</code></a> method:"
      ]
    },
    {
      "cell_type": "code",
      "execution_count": null,
      "metadata": {
        "id": "he-OfzBbhACQ",
        "outputId": "10aa6850-8768-4bcf-a013-6593cb882984",
        "colab": {
          "base_uri": "https://localhost:8080/",
          "height": 52
        }
      },
      "outputs": [
        {
          "output_type": "stream",
          "name": "stdout",
          "text": [
            "CPU times: user 70.3 ms, sys: 7.23 ms, total: 77.5 ms\n",
            "Wall time: 5.02 s\n"
          ]
        }
      ],
      "source": [
        "%%time\n",
        "response = model.generate_content(\"What do you make of India losing 2023 odi wc finals\")"
      ]
    },
    {
      "cell_type": "markdown",
      "metadata": {
        "id": "FbrR-n_qlpFd"
      },
      "source": [
        "In simple cases, the `response.text` accessor is all you need. To display formatted Markdown text, use the `to_markdown` function:"
      ]
    },
    {
      "cell_type": "code",
      "execution_count": null,
      "metadata": {
        "id": "G-zBkueElVEO",
        "outputId": "6a51dce5-544c-4f11-86d7-76abc00056fc",
        "colab": {
          "base_uri": "https://localhost:8080/",
          "height": 411
        }
      },
      "outputs": [
        {
          "output_type": "execute_result",
          "data": {
            "text/plain": [
              "<IPython.core.display.Markdown object>"
            ],
            "text/markdown": "> India's loss in the 2023 ODI World Cup final was a disappointment for many fans and players alike. It's natural to feel sad and frustrated when a team you support doesn't achieve victory. Here's a balanced perspective:\n> \n> **Factors Contributing to the Loss:**\n> \n> * **Australia's Strong Performance:** Australia played exceptional cricket throughout the tournament, showcasing great batting, bowling, and fielding. They were the deserved winners.\n> * **India's Inconsistency:** While India showed moments of brilliance, they struggled with consistency throughout the tournament. This was particularly evident in the final where they failed to put up a competitive score.\n> * **Pressure and Expectations:** India entered the tournament as a strong contender, leading to immense pressure and expectations. This could have impacted the team's performance.\n> \n> **Moving Forward:**\n> \n> * **Learn from the Experience:**  The loss provides valuable lessons for the team, highlighting areas where they need to improve.\n> * **Maintain Focus and Determination:** India has a strong squad with potential. The key is to stay focused on their goals and continue working hard.\n> * **Building for the Future:**  The loss shouldn't be seen as a setback but an opportunity to learn and grow.  India can use this experience to build a stronger team for future tournaments.\n> \n> **Overall:**\n> \n> While India's loss in the final was disappointing, it's important to remember that cricket is a game of skill, strategy, and a bit of luck.  There are many factors that can contribute to the outcome of a match, and sometimes, despite their best efforts, teams don't succeed. The key is to learn from the experience and come back stronger. \n"
          },
          "metadata": {},
          "execution_count": 19
        }
      ],
      "source": [
        "to_markdown(response.text)"
      ]
    },
    {
      "cell_type": "markdown",
      "metadata": {
        "id": "UZPpoKMQoru8"
      },
      "source": [
        "If the API failed to return a result, use `GenerateContentResponse.prompt_feedback` to see if it was blocked due to safety concerns regarding the prompt."
      ]
    },
    {
      "cell_type": "code",
      "execution_count": null,
      "metadata": {
        "id": "eIQdU8AGoraT",
        "outputId": "6ebf83c8-d24d-4c4f-e9ea-32fcc7da1c6b",
        "colab": {
          "base_uri": "https://localhost:8080/"
        }
      },
      "outputs": [
        {
          "output_type": "execute_result",
          "data": {
            "text/plain": []
          },
          "metadata": {},
          "execution_count": 20
        }
      ],
      "source": [
        "response.prompt_feedback"
      ]
    },
    {
      "cell_type": "markdown",
      "metadata": {
        "id": "BEJupEDUo6Xj"
      },
      "source": [
        "Gemini can generate multiple possible responses for a single prompt. These possible responses are called `candidates`, and you can review them to select the most suitable one as the response.\n",
        "\n",
        "View the response candidates with <a href=\"https://ai.google.dev/api/python/google/generativeai/protos/GenerateContentResponse#candidates\"><code>GenerateContentResponse.candidates</code></a>:"
      ]
    },
    {
      "cell_type": "code",
      "execution_count": null,
      "metadata": {
        "id": "QoGYz-I7o5wF",
        "outputId": "76d12f94-02fd-4441-ae5d-10ffb5d95e2b",
        "colab": {
          "base_uri": "https://localhost:8080/"
        }
      },
      "outputs": [
        {
          "output_type": "execute_result",
          "data": {
            "text/plain": [
              "[content {\n",
              "  parts {\n",
              "    text: \"India\\'s loss in the 2023 ODI World Cup final was a disappointment for many fans and players alike. It\\'s natural to feel sad and frustrated when a team you support doesn\\'t achieve victory. Here\\'s a balanced perspective:\\n\\n**Factors Contributing to the Loss:**\\n\\n* **Australia\\'s Strong Performance:** Australia played exceptional cricket throughout the tournament, showcasing great batting, bowling, and fielding. They were the deserved winners.\\n* **India\\'s Inconsistency:** While India showed moments of brilliance, they struggled with consistency throughout the tournament. This was particularly evident in the final where they failed to put up a competitive score.\\n* **Pressure and Expectations:** India entered the tournament as a strong contender, leading to immense pressure and expectations. This could have impacted the team\\'s performance.\\n\\n**Moving Forward:**\\n\\n* **Learn from the Experience:**  The loss provides valuable lessons for the team, highlighting areas where they need to improve.\\n* **Maintain Focus and Determination:** India has a strong squad with potential. The key is to stay focused on their goals and continue working hard.\\n* **Building for the Future:**  The loss shouldn\\'t be seen as a setback but an opportunity to learn and grow.  India can use this experience to build a stronger team for future tournaments.\\n\\n**Overall:**\\n\\nWhile India\\'s loss in the final was disappointing, it\\'s important to remember that cricket is a game of skill, strategy, and a bit of luck.  There are many factors that can contribute to the outcome of a match, and sometimes, despite their best efforts, teams don\\'t succeed. The key is to learn from the experience and come back stronger. \\n\"\n",
              "  }\n",
              "  role: \"model\"\n",
              "}\n",
              "finish_reason: STOP\n",
              "index: 0\n",
              "safety_ratings {\n",
              "  category: HARM_CATEGORY_SEXUALLY_EXPLICIT\n",
              "  probability: NEGLIGIBLE\n",
              "}\n",
              "safety_ratings {\n",
              "  category: HARM_CATEGORY_HATE_SPEECH\n",
              "  probability: NEGLIGIBLE\n",
              "}\n",
              "safety_ratings {\n",
              "  category: HARM_CATEGORY_HARASSMENT\n",
              "  probability: NEGLIGIBLE\n",
              "}\n",
              "safety_ratings {\n",
              "  category: HARM_CATEGORY_DANGEROUS_CONTENT\n",
              "  probability: NEGLIGIBLE\n",
              "}\n",
              "]"
            ]
          },
          "metadata": {},
          "execution_count": 21
        }
      ],
      "source": [
        "response.candidates"
      ]
    },
    {
      "cell_type": "markdown",
      "metadata": {
        "id": "EJrwllLnHlBb"
      },
      "source": [
        "By default, the model returns a response after completing the entire generation process. You can also stream the response as it is being generated, and the model will return chunks of the response as soon as they are generated.\n",
        "\n",
        "To stream responses, use <a href=\"https://ai.google.dev/api/python/google/generativeai/GenerativeModel#generate_content\"><code>GenerativeModel.generate_content(..., stream=True)</code></a>."
      ]
    },
    {
      "cell_type": "code",
      "execution_count": null,
      "metadata": {
        "id": "Z7n59b3hHo6-",
        "outputId": "76c1785a-d266-470e-c1a6-b2f5d0fcf8b4",
        "colab": {
          "base_uri": "https://localhost:8080/",
          "height": 52
        }
      },
      "outputs": [
        {
          "output_type": "stream",
          "name": "stdout",
          "text": [
            "CPU times: user 82.2 ms, sys: 6.74 ms, total: 89 ms\n",
            "Wall time: 5.98 s\n"
          ]
        }
      ],
      "source": [
        "%%time\n",
        "response = model.generate_content(\"What do you make of India losing 2023 odi wc finals\", stream=True)"
      ]
    },
    {
      "cell_type": "code",
      "execution_count": null,
      "metadata": {
        "id": "2jt0d0GCIUhg",
        "outputId": "8c68c592-f9fe-4d40-d173-1d695eda77b4",
        "colab": {
          "base_uri": "https://localhost:8080/"
        }
      },
      "outputs": [
        {
          "output_type": "stream",
          "name": "stdout",
          "text": [
            "India\n",
            "________________________________________________________________________________\n",
            "'s loss in the 2023 ODI World Cup final was a\n",
            "________________________________________________________________________________\n",
            " disappointing result for Indian fans, but it's important to remember that it was\n",
            "________________________________________________________________________________\n",
            " a close game against a strong Australian team. Here are some perspectives on the loss:\n",
            "\n",
            "**Positives:**\n",
            "\n",
            "* **Strong Performance Throughout the Tournament:** India played\n",
            "________________________________________________________________________________\n",
            " well throughout the tournament, demonstrating their ability to compete with the best teams in the world. They had some impressive wins, including against Pakistan and England.\n",
            "*\n",
            "________________________________________________________________________________\n",
            " **Young Talent:** The tournament showcased the emergence of young Indian talent, such as Shubman Gill, who was named Player of the Tournament. This is encouraging for the future of Indian cricket.\n",
            "* **Learning Experience:** Every loss can be\n",
            "________________________________________________________________________________\n",
            " a learning experience. The team will undoubtedly analyze their performance in the final and identify areas for improvement.\n",
            "\n",
            "**Negatives:**\n",
            "\n",
            "* **Final Loss:**  Losing the final is always a tough pill to swallow. The Indian team will be disappointed\n",
            "________________________________________________________________________________\n",
            " with their performance in the crucial match.\n",
            "* **Underperforming in Key Moments:** While India played well overall, they made some mistakes in crucial moments of the final, particularly with the bat.\n",
            "* **Lack of Experience:** Compared to Australia, India has less experience in major tournament finals. This could have played a\n",
            "________________________________________________________________________________\n",
            " factor in their performance.\n",
            "\n",
            "**Overall:**\n",
            "\n",
            "India's loss in the 2023 ODI World Cup final is a disappointment, but it shouldn't overshadow the team's overall strong performance throughout the tournament. They have shown great promise and with continued development, they will undoubtedly be contenders in future tournaments\n",
            "________________________________________________________________________________\n",
            ". \n",
            "\n",
            "It's important to remember that cricket is a game of fine margins. Even the best teams can lose on any given day. India's journey to the final was a testament to their ability and will motivate them to continue striving for success. \n",
            "\n",
            "________________________________________________________________________________\n"
          ]
        }
      ],
      "source": [
        "for chunk in response:\n",
        "  print(chunk.text)\n",
        "  print(\"_\"*80)"
      ]
    },
    {
      "cell_type": "markdown",
      "metadata": {
        "id": "5b4Hkfj-pm3p"
      },
      "source": [
        "When streaming, some response attributes are not available until you've iterated through all the response chunks. This is demonstrated below:"
      ]
    },
    {
      "cell_type": "code",
      "execution_count": null,
      "metadata": {
        "id": "-URRx4chp0Kt"
      },
      "outputs": [],
      "source": [
        "response = model.generate_content(\"What do you make of India losing 2023 odi wc finals\", stream=True)"
      ]
    },
    {
      "cell_type": "markdown",
      "metadata": {
        "id": "1HklomMEp9QM"
      },
      "source": [
        "The `prompt_feedback` attribute works:"
      ]
    },
    {
      "cell_type": "code",
      "execution_count": null,
      "metadata": {
        "id": "i1BvdXjop2V-",
        "outputId": "6c400885-58ec-4487-a017-939bf3aa1a49",
        "colab": {
          "base_uri": "https://localhost:8080/"
        }
      },
      "outputs": [
        {
          "output_type": "execute_result",
          "data": {
            "text/plain": []
          },
          "metadata": {},
          "execution_count": 25
        }
      ],
      "source": [
        "response.prompt_feedback"
      ]
    },
    {
      "cell_type": "markdown",
      "metadata": {
        "id": "mVaFQ4RmqGOH"
      },
      "source": [
        "But attributes like <code>text</code> do not:"
      ]
    },
    {
      "cell_type": "code",
      "execution_count": null,
      "metadata": {
        "id": "TiRkS6nCqFmM",
        "outputId": "ea01dcd7-2e06-47da-8563-e4e8d1519193",
        "colab": {
          "base_uri": "https://localhost:8080/"
        }
      },
      "outputs": [
        {
          "output_type": "stream",
          "name": "stdout",
          "text": [
            "IncompleteIterationError: Please let the response complete iteration before accessing the final accumulated\n",
            "attributes (or call `response.resolve()`)\n"
          ]
        }
      ],
      "source": [
        "try:\n",
        "  response.text\n",
        "except Exception as e:\n",
        "  print(f'{type(e).__name__}: {e}')"
      ]
    },
    {
      "cell_type": "markdown",
      "metadata": {
        "id": "MCzr5ZpNhxLm"
      },
      "source": [
        "## Generate text from image and text inputs\n",
        "\n",
        "The `GenerativeModel.generate_content` API is designed to handle multimodal prompts and returns a text output.\n",
        "\n",
        "Let's include an image:"
      ]
    },
    {
      "cell_type": "code",
      "execution_count": null,
      "metadata": {
        "id": "CjnS0vNTsVis",
        "outputId": "007a099f-ba3f-472b-9ed3-ba896286e9d0",
        "colab": {
          "base_uri": "https://localhost:8080/",
          "height": 316
        }
      },
      "outputs": [
        {
          "output_type": "execute_result",
          "data": {
            "text/plain": [
              "<PIL.JpegImagePlugin.JpegImageFile image mode=RGB size=168x299>"
            ],
            "image/png": "[encoded data removed]"
          },
          "metadata": {},
          "execution_count": 29
        }
      ],
      "source": [
        "import PIL.Image\n",
        "\n",
        "img = PIL.Image.open('images.jpg')\n",
        "img"
      ]
    },
    {
      "cell_type": "markdown",
      "metadata": {
        "id": "7r99TN2R8EUD"
      },
      "source": [
        "Use the `gemini-1.5-flash` model and pass the image to the model with `generate_content`."
      ]
    },
    {
      "cell_type": "code",
      "execution_count": null,
      "metadata": {
        "id": "EtXxgVzmJZzE"
      },
      "outputs": [],
      "source": [
        "model = genai.GenerativeModel('gemini-1.5-flash')"
      ]
    },
    {
      "cell_type": "code",
      "execution_count": null,
      "metadata": {
        "id": "GwYifv298Cj3",
        "outputId": "fbf7c1b0-39be-4a24-a8d0-dff1ba169726",
        "colab": {
          "base_uri": "https://localhost:8080/",
          "height": 80
        }
      },
      "outputs": [
        {
          "output_type": "execute_result",
          "data": {
            "text/plain": [
              "<IPython.core.display.Markdown object>"
            ],
            "text/markdown": "> The two cricketers in the image are Rohit Sharma and Virat Kohli, both playing for the Indian national cricket team.  They are both considered to be some of the best batsmen in the world."
          },
          "metadata": {},
          "execution_count": 31
        }
      ],
      "source": [
        "response = model.generate_content(img)\n",
        "\n",
        "to_markdown(response.text)"
      ]
    },
    {
      "cell_type": "markdown",
      "metadata": {
        "id": "7xW2Kyra8pSz"
      },
      "source": [
        "To provide both text and images in a prompt, pass a list containing the strings and images:"
      ]
    },
    {
      "cell_type": "code",
      "execution_count": null,
      "metadata": {
        "id": "vm9tUYeT8lBc"
      },
      "outputs": [],
      "source": [
        "response = model.generate_content([\"Write a short, engaging blog post based on this picture. It should include a description of the photo.\", img], stream=True)\n",
        "response.resolve()"
      ]
    },
    {
      "cell_type": "code",
      "execution_count": null,
      "metadata": {
        "id": "d46826OA9IDS",
        "outputId": "2d1356a9-9699-4e40-9571-77c4f06f0ec3",
        "colab": {
          "base_uri": "https://localhost:8080/",
          "height": 197
        }
      },
      "outputs": [
        {
          "output_type": "execute_result",
          "data": {
            "text/plain": [
              "<IPython.core.display.Markdown object>"
            ],
            "text/markdown": "> ## A Partnership for the Ages: Rohit Sharma and Virat Kohli\n> \n> This picture captures a moment of camaraderie and shared determination between two of India's cricketing greats, Rohit Sharma and Virat Kohli. Dressed in their iconic blue jerseys, they stand poised on the field, bats in hand, ready to face the opposition. \n> \n> The intensity in their eyes speaks volumes about their commitment to victory, while the relaxed smiles hint at the strong bond they share. Their partnership has been a defining force in Indian cricket, delivering countless thrilling victories and inspiring millions of fans worldwide.\n> \n> This photograph is a timeless reminder of the power of teamwork and the spirit of sportsmanship that transcends individual achievements.  It's a testament to the enduring legacy of these two remarkable players, who continue to write their names in the history books of Indian cricket. \n"
          },
          "metadata": {},
          "execution_count": 33
        }
      ],
      "source": [
        "to_markdown(response.text)"
      ]
    },
    {
      "cell_type": "markdown",
      "metadata": {
        "id": "zsIZmCYVTDHD"
      },
      "source": [
        "## Chat conversations\n",
        "\n",
        "Gemini enables you to have freeform conversations across multiple turns. The `ChatSession` class simplifies the process by managing the state of the conversation, so unlike with `generate_content`, you do not have to store the conversation history as a list.\n",
        "\n",
        "Initialize the chat:"
      ]
    },
    {
      "cell_type": "code",
      "execution_count": null,
      "metadata": {
        "id": "y8B9Mwo-TCr2",
        "outputId": "2ce65cc6-5ce4-46e3-be6e-0c68da4f4b86",
        "colab": {
          "base_uri": "https://localhost:8080/"
        }
      },
      "outputs": [
        {
          "output_type": "execute_result",
          "data": {
            "text/plain": [
              "ChatSession(\n",
              "    model=genai.GenerativeModel(\n",
              "        model_name='models/gemini-1.5-flash',\n",
              "        generation_config={},\n",
              "        safety_settings={},\n",
              "        tools=None,\n",
              "        system_instruction=None,\n",
              "    ),\n",
              "    history=[]\n",
              ")"
            ]
          },
          "metadata": {},
          "execution_count": 34
        }
      ],
      "source": [
        "model = genai.GenerativeModel('gemini-1.5-flash')\n",
        "chat = model.start_chat(history=[])\n",
        "chat"
      ]
    },
    {
      "cell_type": "markdown",
      "metadata": {
        "id": "5odluV7kKbgr"
      },
      "source": [
        "The `ChatSession.send_message` method returns the same `GenerateContentResponse` type as <a href=\"https://ai.google.dev/api/python/google/generativeai/GenerativeModel#generate_content\"><code>GenerativeModel.generate_content</code></a>. It also appends your message and the response to the chat history:"
      ]
    },
    {
      "cell_type": "code",
      "execution_count": null,
      "metadata": {
        "id": "b72zbOEjKRxP",
        "outputId": "dd94128b-762d-4e34-c423-360c1f62317e",
        "colab": {
          "base_uri": "https://localhost:8080/",
          "height": 80
        }
      },
      "outputs": [
        {
          "output_type": "execute_result",
          "data": {
            "text/plain": [
              "<IPython.core.display.Markdown object>"
            ],
            "text/markdown": "> Cricket is a bat-and-ball game where two teams compete to score more runs by hitting a ball bowled by the opposing team and running between wickets. \n"
          },
          "metadata": {},
          "execution_count": 36
        }
      ],
      "source": [
        "response = chat.send_message(\"In one sentence, explain how cricket works.\")\n",
        "to_markdown(response.text)"
      ]
    },
    {
      "cell_type": "code",
      "execution_count": null,
      "metadata": {
        "id": "5-5HS2bTOTU9",
        "outputId": "48ee92cf-0112-4499-967a-51312f17e111",
        "colab": {
          "base_uri": "https://localhost:8080/"
        }
      },
      "outputs": [
        {
          "output_type": "execute_result",
          "data": {
            "text/plain": [
              "[parts {\n",
              "   text: \"In one sentence, explain how crickets works.\"\n",
              " }\n",
              " role: \"user\",\n",
              " parts {\n",
              "   text: \"Crickets use their wings to rub together, creating vibrations that resonate through the air, producing the chirping sound we hear. \\n\"\n",
              " }\n",
              " role: \"model\",\n",
              " parts {\n",
              "   text: \"In one sentence, explain how cricket works.\"\n",
              " }\n",
              " role: \"user\",\n",
              " parts {\n",
              "   text: \"Cricket is a bat-and-ball game where two teams compete to score more runs by hitting a ball bowled by the opposing team and running between wickets. \\n\"\n",
              " }\n",
              " role: \"model\"]"
            ]
          },
          "metadata": {},
          "execution_count": 37
        }
      ],
      "source": [
        "chat.history"
      ]
    },
    {
      "cell_type": "markdown",
      "metadata": {
        "id": "7JaiFSIvOcVb"
      },
      "source": [
        "You can keep sending messages to continue the conversation. Use the `stream=True` argument to stream the chat:"
      ]
    },
    {
      "cell_type": "code",
      "execution_count": null,
      "metadata": {
        "id": "Vxku7mzSObfZ",
        "outputId": "20e5f7bc-6c01-4465-ca0b-0f78bc669ea9",
        "colab": {
          "base_uri": "https://localhost:8080/",
          "height": 173
        }
      },
      "outputs": [
        {
          "output_type": "stream",
          "name": "stdout",
          "text": [
            "Cricket\n",
            "________________________________________________________________________________\n",
            ", a complex bat-and-ball game, involves two teams competing to score\n",
            "________________________________________________________________________________\n",
            " more runs by striking a ball bowled by the opposing team, running between wickets,\n",
            "________________________________________________________________________________\n",
            " while simultaneously attempting to dismiss the opposing batsmen, using a combination of bowling, fielding, and strategic tactics. \n",
            "\n",
            "________________________________________________________________________________\n"
          ]
        }
      ],
      "source": [
        "response = chat.send_message(\"Okay, how about a more detailed explanation to a professional cricketer?\", stream=True)\n",
        "\n",
        "for chunk in response:\n",
        "  print(chunk.text)\n",
        "  print(\"_\"*80)"
      ]
    },
    {
      "cell_type": "markdown",
      "metadata": {
        "id": "AwCqtZ6D4kvk"
      },
      "source": [
        "`genai.protos.Content` objects contain a list of `genai.protos.Part` objects that each contain either a text (string) or inline_data (`genai.protos.Blob`), where a blob contains binary data and a `mime_type`. The chat history is available as a list of `genai.protos.Content` objects in `ChatSession.history`:"
      ]
    },
    {
      "cell_type": "code",
      "execution_count": null,
      "metadata": {
        "id": "WvyTmbC2d0k3",
        "outputId": "dea547a2-eeee-4402-b701-891a18f3d957",
        "colab": {
          "base_uri": "https://localhost:8080/",
          "height": 271
        }
      },
      "outputs": [
        {
          "output_type": "display_data",
          "data": {
            "text/plain": [
              "<IPython.core.display.Markdown object>"
            ],
            "text/markdown": "> **user**: In one sentence, explain how crickets works."
          },
          "metadata": {}
        },
        {
          "output_type": "display_data",
          "data": {
            "text/plain": [
              "<IPython.core.display.Markdown object>"
            ],
            "text/markdown": "> **model**: Crickets use their wings to rub together, creating vibrations that resonate through the air, producing the chirping sound we hear. \n"
          },
          "metadata": {}
        },
        {
          "output_type": "display_data",
          "data": {
            "text/plain": [
              "<IPython.core.display.Markdown object>"
            ],
            "text/markdown": "> **user**: In one sentence, explain how cricket works."
          },
          "metadata": {}
        },
        {
          "output_type": "display_data",
          "data": {
            "text/plain": [
              "<IPython.core.display.Markdown object>"
            ],
            "text/markdown": "> **model**: Cricket is a bat-and-ball game where two teams compete to score more runs by hitting a ball bowled by the opposing team and running between wickets. \n"
          },
          "metadata": {}
        },
        {
          "output_type": "display_data",
          "data": {
            "text/plain": [
              "<IPython.core.display.Markdown object>"
            ],
            "text/markdown": "> **user**: Okay, how about a more detailed explanation to a professional cricketer?"
          },
          "metadata": {}
        },
        {
          "output_type": "display_data",
          "data": {
            "text/plain": [
              "<IPython.core.display.Markdown object>"
            ],
            "text/markdown": "> **model**: Cricket, a complex bat-and-ball game, involves two teams competing to score more runs by striking a ball bowled by the opposing team, running between wickets, while simultaneously attempting to dismiss the opposing batsmen, using a combination of bowling, fielding, and strategic tactics. \n"
          },
          "metadata": {}
        }
      ],
      "source": [
        "for message in chat.history:\n",
        "  display(to_markdown(f'**{message.role}**: {message.parts[0].text}'))"
      ]
    },
    {
      "cell_type": "markdown",
      "metadata": {
        "id": "AEgVOYu0pAr4"
      },
      "source": [
        "## Count tokens\n",
        "\n",
        "Large language models have a context window, and the context length is often measured in terms of the **number of tokens**. With the Gemini API, you can determine the number of tokens per any `genai.protos.Content` object. In the simplest case, you can pass a query string to the `GenerativeModel.count_tokens` method as follows:"
      ]
    },
    {
      "cell_type": "code",
      "execution_count": null,
      "metadata": {
        "id": "eLjBmPCLpElk",
        "outputId": "d6d03fe3-f5cf-4482-fe4d-5489cc19fc23",
        "colab": {
          "base_uri": "https://localhost:8080/",
          "height": 34
        }
      },
      "outputs": [
        {
          "output_type": "execute_result",
          "data": {
            "text/plain": [
              "total_tokens: 6"
            ]
          },
          "metadata": {},
          "execution_count": 41
        }
      ],
      "source": [
        "model.count_tokens(\"What is the meaning of cricket\")"
      ]
    },
    {
      "cell_type": "markdown",
      "metadata": {
        "id": "oM2_U8pmpHQA"
      },
      "source": [
        "Similarly, you can check `token_count` for your `ChatSession`:"
      ]
    },
    {
      "cell_type": "code",
      "execution_count": null,
      "metadata": {
        "id": "i0MUU4BZpG4_",
        "outputId": "1a20e0a4-4599-4e1a-f17f-8851fa803ce4",
        "colab": {
          "base_uri": "https://localhost:8080/",
          "height": 34
        }
      },
      "outputs": [
        {
          "output_type": "execute_result",
          "data": {
            "text/plain": [
              "total_tokens: 155"
            ]
          },
          "metadata": {},
          "execution_count": 42
        }
      ],
      "source": [
        "model.count_tokens(chat.history)"
      ]
    },
    {
      "cell_type": "markdown",
      "metadata": {
        "id": "f9bU0J3vUIbz"
      },
      "source": [
        "## Use embeddings"
      ]
    },
    {
      "cell_type": "code",
      "execution_count": null,
      "metadata": {
        "id": "hskqSKnJUHvp",
        "outputId": "0fa6193c-f94b-440b-cb77-dd5e4c3f8d74",
        "colab": {
          "base_uri": "https://localhost:8080/",
          "height": 34
        }
      },
      "outputs": [
        {
          "output_type": "stream",
          "name": "stdout",
          "text": [
            "[0.020628415, 0.04265461, -0.049221132, -0.0448369 ... TRIMMED]\n"
          ]
        }
      ],
      "source": [
        "result = genai.embed_content(\n",
        "    model=\"models/text-embedding-004\",\n",
        "    content=\"What do you make of India losing 2023 odi wc finals\",\n",
        "    task_type=\"retrieval_document\",\n",
        "    title=\"Embedding of single string\")\n",
        "\n",
        "# 1 input > 1 vector output\n",
        "print(str(result['embedding'])[:50], '... TRIMMED]')"
      ]
    },
    {
      "cell_type": "markdown",
      "metadata": {
        "id": "OcSc3KfflBCQ"
      },
      "source": [
        "Note: The `retrieval_document` task type is the only task that accepts a title.\n",
        "\n",
        "To handle batches of strings, pass a list of strings in `content`:"
      ]
    },
    {
      "cell_type": "code",
      "execution_count": null,
      "metadata": {
        "id": "OnyD-Joik8LE",
        "outputId": "694df8f0-f538-4adb-ff39-21c7450186c1",
        "colab": {
          "base_uri": "https://localhost:8080/",
          "height": 69
        }
      },
      "outputs": [
        {
          "output_type": "stream",
          "name": "stdout",
          "text": [
            "[0.0056648594, 0.043947246, -0.051529564, -0.04071 ... TRIMMED ...\n",
            "[-0.024958506, 0.0025414242, -0.048209142, -0.0161 ... TRIMMED ...\n",
            "[0.00037063262, 0.03763057, -0.12269569, -0.009518 ... TRIMMED ...\n"
          ]
        }
      ],
      "source": [
        "result = genai.embed_content(\n",
        "    model=\"models/text-embedding-004\",\n",
        "    content=[\n",
        "      'What do you make of India losing 2023 odi wc finals',\n",
        "      'How much money does it require to purchase a bmw car??',\n",
        "      'How does the brain work?'],\n",
        "    task_type=\"retrieval_document\",\n",
        "    title=\"Embedding of list of strings\")\n",
        "\n",
        "# A list of inputs > A list of vectors output\n",
        "for v in result['embedding']:\n",
        "  print(str(v)[:50], '... TRIMMED ...')"
      ]
    },
    {
      "cell_type": "markdown",
      "metadata": {
        "id": "zBg0eNeml3d4"
      },
      "source": [
        "While the `genai.embed_content` function accepts simple strings or lists of strings, it is actually built around the `genai.protos.Content` type (like <a href=\"https://ai.google.dev/api/python/google/generativeai/GenerativeModel#generate_content\"><code>GenerativeModel.generate_content</code></a>). `genai.protos.Content` objects are the primary units of conversation in the API.\n",
        "\n",
        "While the `genai.protos.Content` object is multimodal, the `embed_content` method only supports text embeddings. This design gives the API the *possibility* to expand to multimodal embeddings."
      ]
    },
    {
      "cell_type": "code",
      "execution_count": null,
      "metadata": {
        "id": "1-wmapZznXrm",
        "outputId": "e546c8c9-e200-479e-a75c-38197f795182",
        "colab": {
          "base_uri": "https://localhost:8080/"
        }
      },
      "outputs": [
        {
          "output_type": "execute_result",
          "data": {
            "text/plain": [
              "parts {\n",
              "  text: \"Cricket, a complex bat-and-ball game, involves two teams competing to score more runs by striking a ball bowled by the opposing team, running between wickets, while simultaneously attempting to dismiss the opposing batsmen, using a combination of bowling, fielding, and strategic tactics. \\n\"\n",
              "}\n",
              "role: \"model\""
            ]
          },
          "metadata": {},
          "execution_count": 47
        }
      ],
      "source": [
        "response.candidates[0].content"
      ]
    },
    {
      "cell_type": "code",
      "execution_count": null,
      "metadata": {
        "id": "cvX5jsrcnufk",
        "outputId": "b7f36481-365d-4a18-dc67-d99b643dea28",
        "colab": {
          "base_uri": "https://localhost:8080/",
          "height": 34
        }
      },
      "outputs": [
        {
          "output_type": "stream",
          "name": "stdout",
          "text": [
            "[-0.0051991013, 0.049491752, 0.012416477, -0.06541 ... TRIMMED ...\n"
          ]
        }
      ],
      "source": [
        "result = genai.embed_content(\n",
        "    model = 'models/text-embedding-004',\n",
        "    content = response.candidates[0].content)\n",
        "\n",
        "# 1 input > 1 vector output\n",
        "print(str(result['embedding'])[:50], '... TRIMMED ...')"
      ]
    },
    {
      "cell_type": "markdown",
      "metadata": {
        "id": "jU8juHCxoUKG"
      },
      "source": [
        "Similarly, the chat history contains a list of `genai.protos.Content` objects, which you can pass directly to the `embed_content` function:"
      ]
    },
    {
      "cell_type": "code",
      "execution_count": null,
      "metadata": {
        "id": "ur5ajPsdnCON",
        "outputId": "96a7be3c-362b-47d7-f0ea-1cf0cc95f3f9",
        "colab": {
          "base_uri": "https://localhost:8080/"
        }
      },
      "outputs": [
        {
          "output_type": "execute_result",
          "data": {
            "text/plain": [
              "[parts {\n",
              "   text: \"In one sentence, explain how crickets works.\"\n",
              " }\n",
              " role: \"user\",\n",
              " parts {\n",
              "   text: \"Crickets use their wings to rub together, creating vibrations that resonate through the air, producing the chirping sound we hear. \\n\"\n",
              " }\n",
              " role: \"model\",\n",
              " parts {\n",
              "   text: \"In one sentence, explain how cricket works.\"\n",
              " }\n",
              " role: \"user\",\n",
              " parts {\n",
              "   text: \"Cricket is a bat-and-ball game where two teams compete to score more runs by hitting a ball bowled by the opposing team and running between wickets. \\n\"\n",
              " }\n",
              " role: \"model\",\n",
              " parts {\n",
              "   text: \"Okay, how about a more detailed explanation to a professional cricketer?\"\n",
              " }\n",
              " role: \"user\",\n",
              " parts {\n",
              "   text: \"Cricket, a complex bat-and-ball game, involves two teams competing to score more runs by striking a ball bowled by the opposing team, running between wickets, while simultaneously attempting to dismiss the opposing batsmen, using a combination of bowling, fielding, and strategic tactics. \\n\"\n",
              " }\n",
              " role: \"model\"]"
            ]
          },
          "metadata": {},
          "execution_count": 49
        }
      ],
      "source": [
        "chat.history"
      ]
    },
    {
      "cell_type": "code",
      "execution_count": null,
      "metadata": {
        "id": "Z3xDB1hwof96",
        "outputId": "c37dea9a-5917-4b65-e9ea-d4f8c3bba340",
        "colab": {
          "base_uri": "https://localhost:8080/",
          "height": 121
        }
      },
      "outputs": [
        {
          "output_type": "stream",
          "name": "stdout",
          "text": [
            "[-0.053790573, 0.02031735, -0.021880697, -0.047563 ... TRIMMED...\n",
            "[-0.030216437, 0.07134573, -0.00921309, -0.0122486 ... TRIMMED...\n",
            "[-0.035816655, 0.040150374, -0.015022458, -0.07444 ... TRIMMED...\n",
            "[-0.027632384, 0.049262155, 0.02825928, -0.0619115 ... TRIMMED...\n",
            "[0.038760867, -0.04002764, -0.02171867, -0.0025202 ... TRIMMED...\n",
            "[-0.0051991013, 0.049491752, 0.012416477, -0.06541 ... TRIMMED...\n"
          ]
        }
      ],
      "source": [
        "result = genai.embed_content(\n",
        "    model = 'models/text-embedding-004',\n",
        "    content = chat.history)\n",
        "\n",
        "# 1 input > 1 vector output\n",
        "for i,v in enumerate(result['embedding']):\n",
        "  print(str(v)[:50], '... TRIMMED...')"
      ]
    },
    {
      "cell_type": "markdown",
      "metadata": {
        "id": "vuz9-TWDzdlb"
      },
      "source": [
        "## Advanced use cases\n",
        "\n",
        "The following sections discuss advanced use cases and lower-level details of the Python SDK for the Gemini API."
      ]
    },
    {
      "cell_type": "markdown",
      "metadata": {
        "id": "o5FWJPSD1qFE"
      },
      "source": [
        "### Safety settings\n",
        "\n",
        "The `safety_settings` argument lets you configure what the model blocks and allows in both prompts and responses. By default, safety settings block content with medium and/or high probability of being unsafe content across all dimensions. Learn more about [Safety settings](https://ai.google.dev/docs/safety_setting).\n",
        "\n",
        "Enter a questionable prompt and run the model with the default safety settings, and it will not return any candidates:"
      ]
    },
    {
      "cell_type": "code",
      "execution_count": null,
      "metadata": {
        "id": "VR1fp12I1yH0",
        "outputId": "7d0a6c1a-6cab-4284-b9ad-7b22869b4f4d",
        "colab": {
          "base_uri": "https://localhost:8080/",
          "height": 555
        }
      },
      "outputs": [
        {
          "output_type": "execute_result",
          "data": {
            "text/plain": [
              "[content {\n",
              "  parts {\n",
              "    text: \"I understand you\\'re asking about drug intake, but I cannot provide information on how to take drugs. \\n\\nMy purpose is to provide safe and helpful information. Giving advice on drug intake would be irresponsible and potentially dangerous. \\n\\n**Drug use can have serious consequences, including:**\\n\\n* **Addiction:** Developing a dependence on a drug and experiencing withdrawal symptoms when you stop using it.\\n* **Overdose:** Taking too much of a drug can be fatal.\\n* **Health problems:** Drugs can damage your body, including your brain, heart, and lungs.\\n* **Legal consequences:** Possession and use of illegal drugs can result in fines, jail time, and other legal penalties.\\n\\n**If you are struggling with drug use, please reach out for help:**\\n\\n* **Talk to a trusted friend or family member.**\\n* **Contact a mental health professional.**\\n* **Call a helpline, such as the National Drug Helpline at 1-800-662-HELP (4357).**\\n\\nRemember, there is help available, and you don\\'t have to go through this alone. \\n\"\n",
              "  }\n",
              "  role: \"model\"\n",
              "}\n",
              "finish_reason: STOP\n",
              "index: 0\n",
              "safety_ratings {\n",
              "  category: HARM_CATEGORY_SEXUALLY_EXPLICIT\n",
              "  probability: NEGLIGIBLE\n",
              "}\n",
              "safety_ratings {\n",
              "  category: HARM_CATEGORY_HATE_SPEECH\n",
              "  probability: NEGLIGIBLE\n",
              "}\n",
              "safety_ratings {\n",
              "  category: HARM_CATEGORY_HARASSMENT\n",
              "  probability: NEGLIGIBLE\n",
              "}\n",
              "safety_ratings {\n",
              "  category: HARM_CATEGORY_DANGEROUS_CONTENT\n",
              "  probability: LOW\n",
              "}\n",
              "]"
            ]
          },
          "metadata": {},
          "execution_count": 56
        }
      ],
      "source": [
        "response = model.generate_content('how to intake drugs')\n",
        "response.candidates"
      ]
    },
    {
      "cell_type": "markdown",
      "metadata": {
        "id": "31Q8kAItGLOU"
      },
      "source": [
        "The `prompt_feedback` will tell you which safety filter blocked the prompt:"
      ]
    },
    {
      "cell_type": "code",
      "execution_count": null,
      "metadata": {
        "id": "GMUvWNkZ11x4",
        "outputId": "23e3d4b6-95fe-466f-e189-8634bebebea8",
        "colab": {
          "base_uri": "https://localhost:8080/"
        }
      },
      "outputs": [
        {
          "output_type": "execute_result",
          "data": {
            "text/plain": []
          },
          "metadata": {},
          "execution_count": 57
        }
      ],
      "source": [
        "response.prompt_feedback"
      ]
    },
    {
      "cell_type": "markdown",
      "metadata": {
        "id": "YtPC1Fo514ec"
      },
      "source": [
        "Now provide the same prompt to the model with newly configured safety settings, and you may get a response."
      ]
    },
    {
      "cell_type": "code",
      "execution_count": null,
      "metadata": {
        "id": "0UIt5LKp16jL",
        "outputId": "5eff648f-d505-426a-e9da-4cdca489fc09",
        "colab": {
          "base_uri": "https://localhost:8080/",
          "height": 105
        }
      },
      "outputs": [
        {
          "output_type": "execute_result",
          "data": {
            "text/plain": [
              "\"I understand you're looking for information, but I cannot provide advice on how to take drugs. My purpose is to provide safe and helpful information, and that includes protecting people from harm. \\n\\nDrug use can be extremely dangerous and can lead to serious health problems, addiction, and even death. \\n\\nIf you're struggling with drug use, please reach out to a trusted adult or seek professional help:\\n\\n* **National Drug Helpline:** 1-800-662-HELP (4357)\\n* **SAMHSA National Helpline:** 1-800-662-HELP (4357)\\n* **Crisis Text Line:** Text HOME to 741741\\n\\nRemember, there is help available, and you don't have to go through this alone. \\n\""
            ],
            "application/vnd.google.colaboratory.intrinsic+json": {
              "type": "string"
            }
          },
          "metadata": {},
          "execution_count": 58
        }
      ],
      "source": [
        "response = model.generate_content('[how to take drugs]',\n",
        "                                  safety_settings={'HARASSMENT':'block_none'})\n",
        "response.text"
      ]
    },
    {
      "cell_type": "markdown",
      "metadata": {
        "id": "WE_f5EruGUnj"
      },
      "source": [
        "Also note that each candidate has its own `safety_ratings`, in case the prompt passes but the individual responses fail the safety checks."
      ]
    }
  ],
  "metadata": {
    "colab": {
      "provenance": []
    },
    "google": {
      "image_path": "/static/site-assets/images/docs/logo-python.svg",
      "keywords": [
        "examples",
        "gemini",
        "beginner",
        "googleai",
        "quickstart",
        "python",
        "text",
        "chat",
        "vision",
        "embed"
      ]
    },
    "kernelspec": {
      "display_name": "Python 3",
      "name": "python3"
    }
  },
  "nbformat": 4,
  "nbformat_minor": 0
}